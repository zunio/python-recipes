{
 "cells": [
  {
   "cell_type": "code",
   "execution_count": 9,
   "metadata": {},
   "outputs": [],
   "source": [
    "from sklearn.feature_extraction.text import TfidfVectorizer\n",
    "from sklearn.decomposition import TruncatedSVD"
   ]
  },
  {
   "cell_type": "code",
   "execution_count": 4,
   "metadata": {
    "collapsed": true
   },
   "outputs": [],
   "source": [
    "my_documents = ['The movie was about a spaceship and aliens.',\n",
    " 'I really liked the movie!',\n",
    " 'Awesome action scenes, but boring characters.',\n",
    " 'The movie was awful! I hate alien films.',\n",
    " 'Space is cool! I liked the movie.',\n",
    " 'More space films, please!',]"
   ]
  },
  {
   "cell_type": "code",
   "execution_count": 5,
   "metadata": {},
   "outputs": [],
   "source": [
    "tfidf = TfidfVectorizer() \n",
    "\n",
    "# Apply fit_transform to document: csr_mat\n",
    "csr_mat = tfidf.fit_transform(my_documents)"
   ]
  },
  {
   "cell_type": "code",
   "execution_count": 6,
   "metadata": {},
   "outputs": [
    {
     "name": "stdout",
     "output_type": "stream",
     "text": [
      "[[ 0.43127749  0.          0.          0.43127749  0.43127749  0.          0.\n",
      "   0.          0.          0.          0.          0.          0.          0.\n",
      "   0.          0.          0.25585931  0.          0.          0.          0.\n",
      "   0.43127749  0.25585931  0.35365371]\n",
      " [ 0.          0.          0.          0.          0.          0.          0.\n",
      "   0.          0.          0.          0.          0.          0.          0.\n",
      "   0.53194592  0.          0.38484912  0.          0.64870321  0.          0.\n",
      "   0.          0.38484912  0.        ]\n",
      " [ 0.          0.40824829  0.          0.          0.          0.40824829\n",
      "   0.          0.40824829  0.40824829  0.40824829  0.          0.          0.\n",
      "   0.          0.          0.          0.          0.          0.\n",
      "   0.40824829  0.          0.          0.          0.        ]\n",
      " [ 0.          0.          0.44504881  0.          0.          0.\n",
      "   0.44504881  0.          0.          0.          0.          0.36494639\n",
      "   0.44504881  0.          0.          0.          0.26402928  0.          0.\n",
      "   0.          0.          0.          0.26402928  0.36494639]\n",
      " [ 0.          0.          0.          0.          0.          0.          0.\n",
      "   0.          0.          0.          0.4969801   0.          0.\n",
      "   0.4969801   0.40753079  0.          0.29483799  0.          0.          0.\n",
      "   0.40753079  0.          0.29483799  0.        ]\n",
      " [ 0.          0.          0.          0.          0.          0.          0.\n",
      "   0.          0.          0.          0.          0.44836665  0.          0.\n",
      "   0.          0.54677906  0.          0.54677906  0.          0.\n",
      "   0.44836665  0.          0.          0.        ]]\n"
     ]
    }
   ],
   "source": [
    "print(csr_mat.toarray())"
   ]
  },
  {
   "cell_type": "code",
   "execution_count": 8,
   "metadata": {},
   "outputs": [
    {
     "data": {
      "text/plain": [
       "['about',\n",
       " 'action',\n",
       " 'alien',\n",
       " 'aliens',\n",
       " 'and',\n",
       " 'awesome',\n",
       " 'awful',\n",
       " 'boring',\n",
       " 'but',\n",
       " 'characters',\n",
       " 'cool',\n",
       " 'films',\n",
       " 'hate',\n",
       " 'is',\n",
       " 'liked',\n",
       " 'more',\n",
       " 'movie',\n",
       " 'please',\n",
       " 'really',\n",
       " 'scenes',\n",
       " 'space',\n",
       " 'spaceship',\n",
       " 'the',\n",
       " 'was']"
      ]
     },
     "execution_count": 8,
     "metadata": {},
     "output_type": "execute_result"
    }
   ],
   "source": [
    "words = tfidf.get_feature_names()\n",
    "words"
   ]
  },
  {
   "cell_type": "code",
   "execution_count": 11,
   "metadata": {},
   "outputs": [
    {
     "data": {
      "text/plain": [
       "array([[  5.35010090e-01,  -3.33183344e-01,  -6.68408892e-17,\n",
       "          5.55290628e-01,  -5.41864996e-01],\n",
       "       [  7.17807689e-01,  -3.04653070e-01,   7.34799999e-15,\n",
       "         -3.79199917e-01,   1.68303659e-01],\n",
       "       [  5.66059640e-16,   1.47993232e-14,   1.00000000e+00,\n",
       "          9.07456653e-15,   6.23152389e-16],\n",
       "       [  5.90897413e-01,   1.48528691e-01,  -8.11228430e-15,\n",
       "          5.47150194e-01,   5.58405856e-01],\n",
       "       [  7.19645035e-01,   5.37964050e-02,   3.40645939e-15,\n",
       "         -4.90642699e-01,  -1.28178931e-01],\n",
       "       [  3.00665035e-01,   8.99536695e-01,  -1.32944813e-14,\n",
       "          1.62488982e-02,  -2.28239594e-01]])"
      ]
     },
     "execution_count": 11,
     "metadata": {},
     "output_type": "execute_result"
    }
   ],
   "source": [
    "svd = TruncatedSVD(n_components=5)\n",
    "svd.fit(csr_mat)\n",
    "svd.transform(csr_mat)"
   ]
  },
  {
   "cell_type": "code",
   "execution_count": null,
   "metadata": {
    "collapsed": true
   },
   "outputs": [],
   "source": [
    "# Perform the necessary imports\n",
    "# Data from https://blog.lateral.io/2015/06/the-unknown-perils-of-mining-wikipedia/\n",
    "from sklearn.decomposition import TruncatedSVD\n",
    "from sklearn.cluster import KMeans\n",
    "from sklearn.pipeline import make_pipeline\n",
    "\n",
    "# Create a TruncatedSVD instance: svd\n",
    "svd = TruncatedSVD(n_components=50)\n",
    "\n",
    "# Create a KMeans instance: kmeans\n",
    "kmeans = KMeans(n_clusters=6)\n",
    "\n",
    "# Create a pipeline: pipeline\n",
    "pipeline = make_pipeline(svd,kmeans)"
   ]
  },
  {
   "cell_type": "code",
   "execution_count": null,
   "metadata": {
    "collapsed": true
   },
   "outputs": [],
   "source": [
    "# Import pandas\n",
    "import pandas as pd\n",
    "\n",
    "# Fit the pipeline to articles\n",
    "pipeline.fit(articles)\n",
    "\n",
    "# Calculate the cluster labels: labels\n",
    "labels = pipeline.predict(articles)\n",
    "\n",
    "# Create a DataFrame aligning labels and titles: df\n",
    "df = pd.DataFrame({'label': labels, 'article': titles})\n",
    "\n",
    "# Display df sorted by cluster label\n",
    "print(df.sort_values('label'))"
   ]
  }
 ],
 "metadata": {
  "kernelspec": {
   "display_name": "Python 3",
   "language": "python",
   "name": "python3"
  },
  "language_info": {
   "codemirror_mode": {
    "name": "ipython",
    "version": 3
   },
   "file_extension": ".py",
   "mimetype": "text/x-python",
   "name": "python",
   "nbconvert_exporter": "python",
   "pygments_lexer": "ipython3",
   "version": "3.6.2"
  }
 },
 "nbformat": 4,
 "nbformat_minor": 2
}
