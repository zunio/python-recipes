{
 "cells": [
  {
   "cell_type": "markdown",
   "metadata": {},
   "source": [
    "Turn a string or document into **token**.\n",
    "There are different theories and rules.\n",
    "We want to perform tokenization in order to:\n",
    "- easier to map part of speech\n",
    "- matching common words\n",
    "- removing unwanted tokens\n",
    "\n",
    "Usually we use nltk library with method:\n",
    "- word_tokenie (word)\n",
    "- sent_tokenize (sentence)\n",
    "- regexp_tokenize (custom regexp pattern)\n",
    "- TweetTokenizer (split hashtags, ecc)"
   ]
  },
  {
   "cell_type": "code",
   "execution_count": 3,
   "metadata": {
    "collapsed": true
   },
   "outputs": [],
   "source": [
    "scene_one='''SCENE 1: [wind] [clop clop clop] \\nKING ARTHUR: Whoa there!  [clop clop clop] \\nSOLDIER #1: Halt!  Who goes there?\\nARTHUR: It is I, Arthur, son of Uther Pendragon, from the castle of Camelot.  King of the Britons, defeator of the Saxons, sovereign of all England!\\nSOLDIER #1: Pull the other one!\\nARTHUR: I am, ...  and this is my trusty servant Patsy.  We have ridden the length and breadth of the land in search of knights who will join me in my court at Camelot.  I must speak with your lord and master.\\nSOLDIER #1: What?  Ridden on a horse?\\nARTHUR: Yes!\\nSOLDIER #1: You're using coconuts!\\nARTHUR: What?\\nSOLDIER #1: You've got two empty halves of coconut and you're bangin' 'em together.\\nARTHUR: So?  We have ridden since the snows of winter covered this land, through the kingdom of Mercea, through--\\nSOLDIER #1: Where'd you get the coconuts?\\nARTHUR: We found them.\\nSOLDIER #1: Found them?  In Mercea?  The coconut's tropical!\\nARTHUR: What do you mean?\\nSOLDIER #1: Well, this is a temperate zone.\\nARTHUR: The swallow may fly south with the sun or the house martin or the plover may seek warmer climes in winter, yet these are not strangers to our land?\\nSOLDIER #1: Are you suggesting coconuts migrate?\\nARTHUR: Not at all.  They could be carried.\\nSOLDIER #1: What?  A swallow carrying a coconut?\\nARTHUR: It could grip it by the husk!\\nSOLDIER #1: It's not a question of where he grips it!  It's a simple question of weight ratios!  A five ounce bird could not carry a one pound coconut.\\nARTHUR: Well, it doesn't matter.  Will you go and tell your master that Arthur from the Court of Camelot is here.\\nSOLDIER #1: Listen.  In order to maintain air-speed velocity, a swallow needs to beat its wings forty-three times every second, right?\\nARTHUR: Please!\\nSOLDIER #1: Am I right?\\nARTHUR: I'm not interested!\\nSOLDIER #2: It could be carried by an African swallow!\\nSOLDIER #1: Oh, yeah, an African swallow maybe, but not a European swallow.  That's my point.\\nSOLDIER #2: Oh, yeah, I agree with that.\\nARTHUR: Will you ask your master if he wants to join my court at Camelot?!\\nSOLDIER #1: But then of course a-- African swallows are non-migratory.\\nSOLDIER #2: Oh, yeah...\\nSOLDIER #1: So they couldn't bring a coconut back anyway...  [clop clop clop] \\nSOLDIER #2: Wait a minute!  Supposing two swallows carried it together?\\nSOLDIER #1: No, they'd have to have it on a line.\\nSOLDIER #2: Well, simple!  They'd just use a strand of creeper!\\nSOLDIER #1: What, held under the dorsal guiding feathers?\n",
    "\\nSOLDIER #2: Well, why not?\\n'''"
   ]
  },
  {
   "cell_type": "code",
   "execution_count": 4,
   "metadata": {},
   "outputs": [
    {
     "data": {
      "text/plain": [
       "\"SCENE 1: [wind] [clop clop clop] \\nKING ARTHUR: Whoa there!  [clop clop clop] \\nSOLDIER #1: Halt!  Who goes there?\\nARTHUR: It is I, Arthur, son of Uther Pendragon, from the castle of Camelot.  King of the Britons, defeator of the Saxons, sovereign of all England!\\nSOLDIER #1: Pull the other one!\\nARTHUR: I am, ...  and this is my trusty servant Patsy.  We have ridden the length and breadth of the land in search of knights who will join me in my court at Camelot.  I must speak with your lord and master.\\nSOLDIER #1: What?  Ridden on a horse?\\nARTHUR: Yes!\\nSOLDIER #1: You're using coconuts!\\nARTHUR: What?\\nSOLDIER #1: You've got two empty halves of coconut and you're bangin' 'em together.\\nARTHUR: So?  We have ridden since the snows of winter covered this land, through the kingdom of Mercea, through--\\nSOLDIER #1: Where'd you get the coconuts?\\nARTHUR: We found them.\\nSOLDIER #1: Found them?  In Mercea?  The coconut's tropical!\\nARTHUR: What do you mean?\\nSOLDIER #1: Well, this is a temperate zone.\\nARTHUR: The swallow may fly south with the sun or the house martin or the plover may seek warmer climes in winter, yet these are not strangers to our land?\\nSOLDIER #1: Are you suggesting coconuts migrate?\\nARTHUR: Not at all.  They could be carried.\\nSOLDIER #1: What?  A swallow carrying a coconut?\\nARTHUR: It could grip it by the husk!\\nSOLDIER #1: It's not a question of where he grips it!  It's a simple question of weight ratios!  A five ounce bird could not carry a one pound coconut.\\nARTHUR: Well, it doesn't matter.  Will you go and tell your master that Arthur from the Court of Camelot is here.\\nSOLDIER #1: Listen.  In order to maintain air-speed velocity, a swallow needs to beat its wings forty-three times every second, right?\\nARTHUR: Please!\\nSOLDIER #1: Am I right?\\nARTHUR: I'm not interested!\\nSOLDIER #2: It could be carried by an African swallow!\\nSOLDIER #1: Oh, yeah, an African swallow maybe, but not a European swallow.  That's my point.\\nSOLDIER #2: Oh, yeah, I agree with that.\\nARTHUR: Will you ask your master if he wants to join my court at Camelot?!\\nSOLDIER #1: But then of course a-- African swallows are non-migratory.\\nSOLDIER #2: Oh, yeah...\\nSOLDIER #1: So they couldn't bring a coconut back anyway...  [clop clop clop] \\nSOLDIER #2: Wait a minute!  Supposing two swallows carried it together?\\nSOLDIER #1: No, they'd have to have it on a line.\\nSOLDIER #2: Well, simple!  They'd just use a strand of creeper!\\nSOLDIER #1: What, held under the dorsal guiding feathers?\\n\\nSOLDIER #2: Well, why not?\\n\""
      ]
     },
     "execution_count": 4,
     "metadata": {},
     "output_type": "execute_result"
    }
   ],
   "source": [
    "scene_one"
   ]
  },
  {
   "cell_type": "code",
   "execution_count": 7,
   "metadata": {},
   "outputs": [
    {
     "name": "stdout",
     "output_type": "stream",
     "text": [
      "showing info https://raw.githubusercontent.com/nltk/nltk_data/gh-pages/index.xml\n"
     ]
    },
    {
     "data": {
      "text/plain": [
       "True"
      ]
     },
     "execution_count": 7,
     "metadata": {},
     "output_type": "execute_result"
    }
   ],
   "source": [
    "import nltk\n",
    "nltk.download()"
   ]
  },
  {
   "cell_type": "code",
   "execution_count": 14,
   "metadata": {},
   "outputs": [
    {
     "data": {
      "text/plain": [
       "['SCENE 1: [wind] [clop clop clop] \\nKING ARTHUR: Whoa there!',\n",
       " '[clop clop clop] \\nSOLDIER #1: Halt!',\n",
       " 'Who goes there?',\n",
       " 'ARTHUR: It is I, Arthur, son of Uther Pendragon, from the castle of Camelot.',\n",
       " 'King of the Britons, defeator of the Saxons, sovereign of all England!']"
      ]
     },
     "execution_count": 14,
     "metadata": {},
     "output_type": "execute_result"
    }
   ],
   "source": [
    "from nltk.tokenize import word_tokenize,sent_tokenize\n",
    "sentences = sent_tokenize(scene_one)\n",
    "sentences[:5]"
   ]
  },
  {
   "cell_type": "code",
   "execution_count": 15,
   "metadata": {},
   "outputs": [
    {
     "data": {
      "text/plain": [
       "['ARTHUR',\n",
       " ':',\n",
       " 'It',\n",
       " 'is',\n",
       " 'I',\n",
       " ',',\n",
       " 'Arthur',\n",
       " ',',\n",
       " 'son',\n",
       " 'of',\n",
       " 'Uther',\n",
       " 'Pendragon',\n",
       " ',',\n",
       " 'from',\n",
       " 'the',\n",
       " 'castle',\n",
       " 'of',\n",
       " 'Camelot',\n",
       " '.']"
      ]
     },
     "execution_count": 15,
     "metadata": {},
     "output_type": "execute_result"
    }
   ],
   "source": [
    "tokenized_sent = word_tokenize(sentences[3])\n",
    "tokenized_sent"
   ]
  },
  {
   "cell_type": "code",
   "execution_count": 26,
   "metadata": {},
   "outputs": [
    {
     "data": {
      "text/plain": [
       "{'!',\n",
       " '#',\n",
       " \"'\",\n",
       " \"'d\",\n",
       " \"'em\",\n",
       " \"'m\",\n",
       " \"'re\",\n",
       " \"'s\",\n",
       " \"'ve\",\n",
       " ',',\n",
       " '--',\n",
       " '.',\n",
       " '...',\n",
       " '1',\n",
       " '2',\n",
       " ':',\n",
       " '?',\n",
       " 'A',\n",
       " 'ARTHUR',\n",
       " 'African',\n",
       " 'Am',\n",
       " 'Are',\n",
       " 'Arthur',\n",
       " 'Britons',\n",
       " 'But',\n",
       " 'Camelot',\n",
       " 'Court',\n",
       " 'England',\n",
       " 'European',\n",
       " 'Found',\n",
       " 'Halt',\n",
       " 'I',\n",
       " 'In',\n",
       " 'It',\n",
       " 'KING',\n",
       " 'King',\n",
       " 'Listen',\n",
       " 'Mercea',\n",
       " 'No',\n",
       " 'Not',\n",
       " 'Oh',\n",
       " 'Patsy',\n",
       " 'Pendragon',\n",
       " 'Please',\n",
       " 'Pull',\n",
       " 'Ridden',\n",
       " 'SCENE',\n",
       " 'SOLDIER',\n",
       " 'Saxons',\n",
       " 'So',\n",
       " 'Supposing',\n",
       " 'That',\n",
       " 'The',\n",
       " 'They',\n",
       " 'Uther',\n",
       " 'Wait',\n",
       " 'We',\n",
       " 'Well',\n",
       " 'What',\n",
       " 'Where',\n",
       " 'Who',\n",
       " 'Whoa',\n",
       " 'Will',\n",
       " 'Yes',\n",
       " 'You',\n",
       " '[',\n",
       " ']',\n",
       " 'a',\n",
       " 'agree',\n",
       " 'air-speed',\n",
       " 'all',\n",
       " 'am',\n",
       " 'an',\n",
       " 'and',\n",
       " 'anyway',\n",
       " 'are',\n",
       " 'ask',\n",
       " 'at',\n",
       " 'back',\n",
       " 'bangin',\n",
       " 'be',\n",
       " 'beat',\n",
       " 'bird',\n",
       " 'breadth',\n",
       " 'bring',\n",
       " 'but',\n",
       " 'by',\n",
       " 'carried',\n",
       " 'carry',\n",
       " 'carrying',\n",
       " 'castle',\n",
       " 'climes',\n",
       " 'clop',\n",
       " 'coconut',\n",
       " 'coconuts',\n",
       " 'could',\n",
       " 'course',\n",
       " 'court',\n",
       " 'covered',\n",
       " 'creeper',\n",
       " 'defeator',\n",
       " 'do',\n",
       " 'does',\n",
       " 'dorsal',\n",
       " 'empty',\n",
       " 'every',\n",
       " 'feathers',\n",
       " 'five',\n",
       " 'fly',\n",
       " 'forty-three',\n",
       " 'found',\n",
       " 'from',\n",
       " 'get',\n",
       " 'go',\n",
       " 'goes',\n",
       " 'got',\n",
       " 'grip',\n",
       " 'grips',\n",
       " 'guiding',\n",
       " 'halves',\n",
       " 'have',\n",
       " 'he',\n",
       " 'held',\n",
       " 'here',\n",
       " 'horse',\n",
       " 'house',\n",
       " 'husk',\n",
       " 'if',\n",
       " 'in',\n",
       " 'interested',\n",
       " 'is',\n",
       " 'it',\n",
       " 'its',\n",
       " 'join',\n",
       " 'just',\n",
       " 'kingdom',\n",
       " 'knights',\n",
       " 'land',\n",
       " 'length',\n",
       " 'line',\n",
       " 'lord',\n",
       " 'maintain',\n",
       " 'martin',\n",
       " 'master',\n",
       " 'matter',\n",
       " 'may',\n",
       " 'maybe',\n",
       " 'me',\n",
       " 'mean',\n",
       " 'migrate',\n",
       " 'minute',\n",
       " 'must',\n",
       " 'my',\n",
       " \"n't\",\n",
       " 'needs',\n",
       " 'non-migratory',\n",
       " 'not',\n",
       " 'of',\n",
       " 'on',\n",
       " 'one',\n",
       " 'or',\n",
       " 'order',\n",
       " 'other',\n",
       " 'ounce',\n",
       " 'our',\n",
       " 'plover',\n",
       " 'point',\n",
       " 'pound',\n",
       " 'question',\n",
       " 'ratios',\n",
       " 'ridden',\n",
       " 'right',\n",
       " 'search',\n",
       " 'second',\n",
       " 'seek',\n",
       " 'servant',\n",
       " 'simple',\n",
       " 'since',\n",
       " 'snows',\n",
       " 'son',\n",
       " 'south',\n",
       " 'sovereign',\n",
       " 'speak',\n",
       " 'strand',\n",
       " 'strangers',\n",
       " 'suggesting',\n",
       " 'sun',\n",
       " 'swallow',\n",
       " 'swallows',\n",
       " 'tell',\n",
       " 'temperate',\n",
       " 'that',\n",
       " 'the',\n",
       " 'them',\n",
       " 'then',\n",
       " 'there',\n",
       " 'these',\n",
       " 'they',\n",
       " 'this',\n",
       " 'through',\n",
       " 'times',\n",
       " 'to',\n",
       " 'together',\n",
       " 'tropical',\n",
       " 'trusty',\n",
       " 'two',\n",
       " 'under',\n",
       " 'use',\n",
       " 'using',\n",
       " 'velocity',\n",
       " 'wants',\n",
       " 'warmer',\n",
       " 'weight',\n",
       " 'where',\n",
       " 'who',\n",
       " 'why',\n",
       " 'will',\n",
       " 'wind',\n",
       " 'wings',\n",
       " 'winter',\n",
       " 'with',\n",
       " 'yeah',\n",
       " 'yet',\n",
       " 'you',\n",
       " 'your',\n",
       " 'zone'}"
      ]
     },
     "execution_count": 26,
     "metadata": {},
     "output_type": "execute_result"
    }
   ],
   "source": [
    "unique_tokens = set(word_tokenize(scene_one))\n",
    "unique_tokens"
   ]
  }
 ],
 "metadata": {
  "kernelspec": {
   "display_name": "Python 3",
   "language": "python",
   "name": "python3"
  },
  "language_info": {
   "codemirror_mode": {
    "name": "ipython",
    "version": 3
   },
   "file_extension": ".py",
   "mimetype": "text/x-python",
   "name": "python",
   "nbconvert_exporter": "python",
   "pygments_lexer": "ipython3",
   "version": "3.6.1"
  }
 },
 "nbformat": 4,
 "nbformat_minor": 2
}
