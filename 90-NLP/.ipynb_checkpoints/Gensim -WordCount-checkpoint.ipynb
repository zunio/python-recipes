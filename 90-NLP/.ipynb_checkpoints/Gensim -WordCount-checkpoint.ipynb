{
 "cells": [
  {
   "cell_type": "markdown",
   "metadata": {},
   "source": [
    "Polular open-source NLP library.\n",
    "It's used to perform:\n",
    "- building document or word vector\n",
    "- perform topic identification and document comparison\n",
    "https://radimrehurek.com/gensim/\n",
    "\n",
    " Git Example\n",
    "http://tlfvincent.github.io/2015/10/23/presidential-speech-topics/\n"
   ]
  },
  {
   "cell_type": "code",
   "execution_count": 2,
   "metadata": {},
   "outputs": [
    {
     "name": "stderr",
     "output_type": "stream",
     "text": [
      "C:\\anaconda\\lib\\site-packages\\gensim\\utils.py:865: UserWarning: detected Windows; aliasing chunkize to chunkize_serial\n",
      "  warnings.warn(\"detected Windows; aliasing chunkize to chunkize_serial\")\n"
     ]
    }
   ],
   "source": [
    "from gensim.corpora.dictionary import Dictionary\n",
    "from nltk.tokenize import word_tokenize"
   ]
  },
  {
   "cell_type": "code",
   "execution_count": 3,
   "metadata": {
    "collapsed": true
   },
   "outputs": [],
   "source": [
    "my_documents = ['The movie was about a spaceship and aliens.',\n",
    " 'I really liked the movie!',\n",
    " 'Awesome action scenes, but boring characters.',\n",
    " 'The movie was awful! I hate alien films.',\n",
    " 'Space is cool! I liked the movie.',\n",
    " 'More space films, please!',]"
   ]
  },
  {
   "cell_type": "code",
   "execution_count": 6,
   "metadata": {
    "collapsed": true
   },
   "outputs": [],
   "source": [
    "tokenized_docs = [word_tokenize(doc.lower())\n",
    "    for doc in my_documents]\n",
    "dictionary = Dictionary(tokenized_docs)"
   ]
  },
  {
   "cell_type": "code",
   "execution_count": 11,
   "metadata": {
    "scrolled": true
   },
   "outputs": [
    {
     "data": {
      "text/plain": [
       "{'!': 12,\n",
       " ',': 16,\n",
       " '.': 8,\n",
       " 'a': 4,\n",
       " 'about': 3,\n",
       " 'action': 14,\n",
       " 'alien': 22,\n",
       " 'aliens': 7,\n",
       " 'and': 6,\n",
       " 'awesome': 13,\n",
       " 'awful': 20,\n",
       " 'boring': 18,\n",
       " 'but': 17,\n",
       " 'characters': 19,\n",
       " 'cool': 26,\n",
       " 'films': 23,\n",
       " 'hate': 21,\n",
       " 'i': 9,\n",
       " 'is': 25,\n",
       " 'liked': 11,\n",
       " 'more': 27,\n",
       " 'movie': 1,\n",
       " 'please': 28,\n",
       " 'really': 10,\n",
       " 'scenes': 15,\n",
       " 'space': 24,\n",
       " 'spaceship': 5,\n",
       " 'the': 0,\n",
       " 'was': 2}"
      ]
     },
     "execution_count": 11,
     "metadata": {},
     "output_type": "execute_result"
    }
   ],
   "source": [
    "# Token id\n",
    "dictionary.token2id"
   ]
  },
  {
   "cell_type": "code",
   "execution_count": 12,
   "metadata": {},
   "outputs": [
    {
     "data": {
      "text/plain": [
       "'i'"
      ]
     },
     "execution_count": 12,
     "metadata": {},
     "output_type": "execute_result"
    }
   ],
   "source": [
    "dictionary[9]"
   ]
  },
  {
   "cell_type": "code",
   "execution_count": 9,
   "metadata": {},
   "outputs": [
    {
     "data": {
      "text/plain": [
       "[[(0, 1), (1, 1), (2, 1), (3, 1), (4, 1), (5, 1), (6, 1), (7, 1), (8, 1)],\n",
       " [(0, 1), (1, 1), (9, 1), (10, 1), (11, 1), (12, 1)],\n",
       " [(8, 1), (13, 1), (14, 1), (15, 1), (16, 1), (17, 1), (18, 1), (19, 1)],\n",
       " [(0, 1),\n",
       "  (1, 1),\n",
       "  (2, 1),\n",
       "  (8, 1),\n",
       "  (9, 1),\n",
       "  (12, 1),\n",
       "  (20, 1),\n",
       "  (21, 1),\n",
       "  (22, 1),\n",
       "  (23, 1)],\n",
       " [(0, 1), (1, 1), (8, 1), (9, 1), (11, 1), (12, 1), (24, 1), (25, 1), (26, 1)],\n",
       " [(12, 1), (16, 1), (23, 1), (24, 1), (27, 1), (28, 1)]]"
      ]
     },
     "execution_count": 9,
     "metadata": {},
     "output_type": "execute_result"
    }
   ],
   "source": [
    "corpus = [dictionary.doc2bow(doc) for doc in tokenized_docs]\n",
    "#The first is the id and second is frequency \n",
    "corpus\n"
   ]
  },
  {
   "cell_type": "code",
   "execution_count": 14,
   "metadata": {},
   "outputs": [
    {
     "data": {
      "text/plain": [
       "[(0, 1), (1, 1), (8, 1), (9, 1), (11, 1), (12, 1), (24, 1), (25, 1), (26, 1)]"
      ]
     },
     "execution_count": 14,
     "metadata": {},
     "output_type": "execute_result"
    }
   ],
   "source": [
    "doc=corpus[4]\n",
    "bow_doc = sorted(doc, key=lambda w: w[1], reverse=True)\n",
    "bow_doc"
   ]
  },
  {
   "cell_type": "code",
   "execution_count": 16,
   "metadata": {},
   "outputs": [
    {
     "name": "stdout",
     "output_type": "stream",
     "text": [
      "the 1\n",
      "movie 1\n",
      ". 1\n",
      "i 1\n",
      "liked 1\n"
     ]
    }
   ],
   "source": [
    "# Print the top 5 words of the document alongside the count\n",
    "for word_id, word_count in bow_doc[:5]:\n",
    "    print(dictionary.get(word_id), word_count)"
   ]
  },
  {
   "cell_type": "code",
   "execution_count": 21,
   "metadata": {},
   "outputs": [],
   "source": [
    "## Create the word freq of all the docs\n",
    "from collections import defaultdict\n",
    "from itertools import chain\n",
    "totalfreq = defaultdict(int)\n",
    "for word_id, freq in chain.from_iterable(corpus):\n",
    "    totalfreq[word_id] += freq"
   ]
  },
  {
   "cell_type": "code",
   "execution_count": 23,
   "metadata": {},
   "outputs": [],
   "source": [
    "sorted_freq = sorted(totalfreq.items(), key=lambda w: w[1], reverse=True) "
   ]
  },
  {
   "cell_type": "code",
   "execution_count": 24,
   "metadata": {},
   "outputs": [
    {
     "name": "stdout",
     "output_type": "stream",
     "text": [
      "the 4\n",
      "movie 4\n",
      ". 4\n",
      "! 4\n",
      "i 3\n"
     ]
    }
   ],
   "source": [
    "for word_id, word_count in sorted_freq[:5]:\n",
    "    print(dictionary.get(word_id), word_count)"
   ]
  }
 ],
 "metadata": {
  "kernelspec": {
   "display_name": "Python 3",
   "language": "python",
   "name": "python3"
  },
  "language_info": {
   "codemirror_mode": {
    "name": "ipython",
    "version": 3
   },
   "file_extension": ".py",
   "mimetype": "text/x-python",
   "name": "python",
   "nbconvert_exporter": "python",
   "pygments_lexer": "ipython3",
   "version": "3.6.1"
  }
 },
 "nbformat": 4,
 "nbformat_minor": 2
}
